{
    "nbformat_minor": 1, 
    "cells": [
        {
            "source": "### Introduction: Business Problem & Background\n\nIn this project we will try to find an optimal location to open a new caf\u00e9 in New York. This caf\u00e9 is a multinational chain and is known to be loved by customers. Till now at all locations it has opened, the caf\u00e9 has got consistently very high ratings  \n\nThis caf\u00e9 is targeted for tourists and hence would it would be optimum to locate it where there are more tourist attractions nearby but at the same time are not overly crowded by cafes.  \n\nHence, it\u2019s important to find locations that have enough tourist attractions as a first parameter. Once identified, these locations will have to be checked for existing cafes (the rating on each of the caf\u00e9s might help also look at a qualitative outlook and hence offer a good caf\u00e9 in an area where current cafes do not meet customer standards).  \n\nWe will try and create location clusters which are most optimal for the required problem. We can explore further opportunities based on the data  \n\n\n### Data \u2013 Approach and Requirements\n\nWe are going to use the New York data (used in Week 3) + venues data from Foursquare to help us reach the desirable solution\nBased on definition of our problem, factors that will influence our decision are:\n\u2022\tnumber of tourist attractions in the neighborhood\n\u2022\texisting number of caf\u00e9s in these neighborhoods\n\u2022\taverage rating of cafes in the neighborhood  \n\n\nFollowing data sources will be needed to extract/generate the required information:  \n\u2022\tNew York locations will be extracted from existing data shared during the previous courses  \n\u2022\tVarious venues will be explored and tourist places + cafes will be explored in every neighborhood using Foursquare API  \n\u2022\tcoordinate of New York for the initial map will be hardcoded from data available online  \n\u2022\tInitially top tourist areas will be identified, post which caf\u00e9 data will be analyzed and ideal locations will be found  \n\n", 
            "cell_type": "markdown", 
            "metadata": {}
        }, 
        {
            "source": "", 
            "cell_type": "code", 
            "metadata": {}, 
            "outputs": [], 
            "execution_count": null
        }
    ], 
    "metadata": {
        "kernelspec": {
            "display_name": "Python 3.5", 
            "name": "python3", 
            "language": "python"
        }, 
        "language_info": {
            "mimetype": "text/x-python", 
            "nbconvert_exporter": "python", 
            "version": "3.5.5", 
            "name": "python", 
            "file_extension": ".py", 
            "pygments_lexer": "ipython3", 
            "codemirror_mode": {
                "version": 3, 
                "name": "ipython"
            }
        }
    }, 
    "nbformat": 4
}