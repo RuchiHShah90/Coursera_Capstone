{
    "nbformat_minor": 1, 
    "cells": [
        {
            "source": "import pandas as pd\nimport numpy as np\nimport matplotlib.pyplot as plt\nimport seaborn as sns\n%matplotlib inline\nfrom urllib.request import urlopen\nfrom bs4 import BeautifulSoup", 
            "cell_type": "code", 
            "metadata": {}, 
            "outputs": [], 
            "execution_count": 1
        }, 
        {
            "source": "Importing all the required libraries for reading the HTML + Cleaning the HTML", 
            "cell_type": "markdown", 
            "metadata": {}
        }, 
        {
            "source": "url = \"https://en.wikipedia.org/wiki/List_of_postal_codes_of_Canada:_M\"\nhtml = urlopen(url)\nsoup = BeautifulSoup(html, 'lxml')", 
            "cell_type": "code", 
            "metadata": {}, 
            "outputs": [], 
            "execution_count": 2
        }, 
        {
            "source": "Checking if the page has been read correctly", 
            "cell_type": "markdown", 
            "metadata": {}
        }, 
        {
            "source": "title = soup.title\nprint(title)", 
            "cell_type": "code", 
            "metadata": {}, 
            "outputs": [
                {
                    "output_type": "stream", 
                    "name": "stdout", 
                    "text": "<title>List of postal codes of Canada: M - Wikipedia</title>\n"
                }
            ], 
            "execution_count": 3
        }, 
        {
            "source": "table = soup.find('table')", 
            "cell_type": "code", 
            "metadata": {}, 
            "outputs": [], 
            "execution_count": 4
        }, 
        {
            "source": "rows = table.find_all('td')", 
            "cell_type": "code", 
            "metadata": {}, 
            "outputs": [], 
            "execution_count": 5
        }, 
        {
            "source": "str_cells = str(rows)\ncleantext = BeautifulSoup(str_cells, \"lxml\").get_text()\nprint(cleantext)", 
            "cell_type": "code", 
            "metadata": {}, 
            "outputs": [
                {
                    "output_type": "stream", 
                    "name": "stdout", 
                    "text": "[M1A, Not assigned, Not assigned\n, M2A, Not assigned, Not assigned\n, M3A, North York, Parkwoods\n, M4A, North York, Victoria Village\n, M5A, Downtown Toronto, Harbourfront\n, M5A, Downtown Toronto, Regent Park\n, M6A, North York, Lawrence Heights\n, M6A, North York, Lawrence Manor\n, M7A, Queen's Park, Not assigned\n, M8A, Not assigned, Not assigned\n, M9A, Etobicoke, Islington Avenue\n, M1B, Scarborough, Rouge\n, M1B, Scarborough, Malvern\n, M2B, Not assigned, Not assigned\n, M3B, North York, Don Mills North\n, M4B, East York, Woodbine Gardens\n, M4B, East York, Parkview Hill\n, M5B, Downtown Toronto, Ryerson\n, M5B, Downtown Toronto, Garden District\n, M6B, North York, Glencairn\n, M7B, Not assigned, Not assigned\n, M8B, Not assigned, Not assigned\n, M9B, Etobicoke, Cloverdale\n, M9B, Etobicoke, Islington\n, M9B, Etobicoke, Martin Grove\n, M9B, Etobicoke, Princess Gardens\n, M9B, Etobicoke, West Deane Park\n, M1C, Scarborough, Highland Creek\n, M1C, Scarborough, Rouge Hill\n, M1C, Scarborough, Port Union\n, M2C, Not assigned, Not assigned\n, M3C, North York, Flemingdon Park\n, M3C, North York, Don Mills South\n, M4C, East York, Woodbine Heights\n, M5C, Downtown Toronto, St. James Town\n, M6C, York, Humewood-Cedarvale\n, M7C, Not assigned, Not assigned\n, M8C, Not assigned, Not assigned\n, M9C, Etobicoke, Bloordale Gardens\n, M9C, Etobicoke, Eringate\n, M9C, Etobicoke, Markland Wood\n, M9C, Etobicoke, Old Burnhamthorpe\n, M1E, Scarborough, Guildwood\n, M1E, Scarborough, Morningside\n, M1E, Scarborough, West Hill\n, M2E, Not assigned, Not assigned\n, M3E, Not assigned, Not assigned\n, M4E, East Toronto, The Beaches\n, M5E, Downtown Toronto, Berczy Park\n, M6E, York, Caledonia-Fairbanks\n, M7E, Not assigned, Not assigned\n, M8E, Not assigned, Not assigned\n, M9E, Not assigned, Not assigned\n, M1G, Scarborough, Woburn\n, M2G, Not assigned, Not assigned\n, M3G, Not assigned, Not assigned\n, M4G, East York, Leaside\n, M5G, Downtown Toronto, Central Bay Street\n, M6G, Downtown Toronto, Christie\n, M7G, Not assigned, Not assigned\n, M8G, Not assigned, Not assigned\n, M9G, Not assigned, Not assigned\n, M1H, Scarborough, Cedarbrae\n, M2H, North York, Hillcrest Village\n, M3H, North York, Bathurst Manor\n, M3H, North York, Downsview North\n, M3H, North York, Wilson Heights\n, M4H, East York, Thorncliffe Park\n, M5H, Downtown Toronto, Adelaide\n, M5H, Downtown Toronto, King\n, M5H, Downtown Toronto, Richmond\n, M6H, West Toronto, Dovercourt Village\n, M6H, West Toronto, Dufferin\n, M7H, Not assigned, Not assigned\n, M8H, Not assigned, Not assigned\n, M9H, Not assigned, Not assigned\n, M1J, Scarborough, Scarborough Village\n, M2J, North York, Fairview\n, M2J, North York, Henry Farm\n, M2J, North York, Oriole\n, M3J, North York, Northwood Park\n, M3J, North York, York University\n, M4J, East York, East Toronto\n, M5J, Downtown Toronto, Harbourfront East\n, M5J, Downtown Toronto, Toronto Islands\n, M5J, Downtown Toronto, Union Station\n, M6J, West Toronto, Little Portugal\n, M6J, West Toronto, Trinity\n, M7J, Not assigned, Not assigned\n, M8J, Not assigned, Not assigned\n, M9J, Not assigned, Not assigned\n, M1K, Scarborough, East Birchmount Park\n, M1K, Scarborough, Ionview\n, M1K, Scarborough, Kennedy Park\n, M2K, North York, Bayview Village\n, M3K, North York, CFB Toronto\n, M3K, North York, Downsview East\n, M4K, East Toronto, The Danforth West\n, M4K, East Toronto, Riverdale\n, M5K, Downtown Toronto, Design Exchange\n, M5K, Downtown Toronto, Toronto Dominion Centre\n, M6K, West Toronto, Brockton\n, M6K, West Toronto, Exhibition Place\n, M6K, West Toronto, Parkdale Village\n, M7K, Not assigned, Not assigned\n, M8K, Not assigned, Not assigned\n, M9K, Not assigned, Not assigned\n, M1L, Scarborough, Clairlea\n, M1L, Scarborough, Golden Mile\n, M1L, Scarborough, Oakridge\n, M2L, North York, Silver Hills\n, M2L, North York, York Mills\n, M3L, North York, Downsview West\n, M4L, East Toronto, The Beaches West\n, M4L, East Toronto, India Bazaar\n, M5L, Downtown Toronto, Commerce Court\n, M5L, Downtown Toronto, Victoria Hotel\n, M6L, North York, Downsview\n, M6L, North York, North Park\n, M6L, North York, Upwood Park\n, M7L, Not assigned, Not assigned\n, M8L, Not assigned, Not assigned\n, M9L, North York, Humber Summit\n, M1M, Scarborough, Cliffcrest\n, M1M, Scarborough, Cliffside\n, M1M, Scarborough, Scarborough Village West\n, M2M, North York, Newtonbrook\n, M2M, North York, Willowdale\n, M3M, North York, Downsview Central\n, M4M, East Toronto, Studio District\n, M5M, North York, Bedford Park\n, M5M, North York, Lawrence Manor East\n, M6M, York, Del Ray\n, M6M, York, Keelesdale\n, M6M, York, Mount Dennis\n, M6M, York, Silverthorn\n, M7M, Not assigned, Not assigned\n, M8M, Not assigned, Not assigned\n, M9M, North York, Emery\n, M9M, North York, Humberlea\n, M1N, Scarborough, Birch Cliff\n, M1N, Scarborough, Cliffside West\n, M2N, North York, Willowdale South\n, M3N, North York, Downsview Northwest\n, M4N, Central Toronto, Lawrence Park\n, M5N, Central Toronto, Roselawn\n, M6N, York, The Junction North\n, M6N, York, Runnymede\n, M7N, Not assigned, Not assigned\n, M8N, Not assigned, Not assigned\n, M9N, York, Weston\n, M1P, Scarborough, Dorset Park\n, M1P, Scarborough, Scarborough Town Centre\n, M1P, Scarborough, Wexford Heights\n, M2P, North York, York Mills West\n, M3P, Not assigned, Not assigned\n, M4P, Central Toronto, Davisville North\n, M5P, Central Toronto, Forest Hill North\n, M5P, Central Toronto, Forest Hill West\n, M6P, West Toronto, High Park\n, M6P, West Toronto, The Junction South\n, M7P, Not assigned, Not assigned\n, M8P, Not assigned, Not assigned\n, M9P, Etobicoke, Westmount\n, M1R, Scarborough, Maryvale\n, M1R, Scarborough, Wexford\n, M2R, North York, Willowdale West\n, M3R, Not assigned, Not assigned\n, M4R, Central Toronto, North Toronto West\n, M5R, Central Toronto, The Annex\n, M5R, Central Toronto, North Midtown\n, M5R, Central Toronto, Yorkville\n, M6R, West Toronto, Parkdale\n, M6R, West Toronto, Roncesvalles\n, M7R, Mississauga, Canada Post Gateway Processing Centre\n, M8R, Not assigned, Not assigned\n, M9R, Etobicoke, Kingsview Village\n, M9R, Etobicoke, Martin Grove Gardens\n, M9R, Etobicoke, Richview Gardens\n, M9R, Etobicoke, St. Phillips\n, M1S, Scarborough, Agincourt\n, M2S, Not assigned, Not assigned\n, M3S, Not assigned, Not assigned\n, M4S, Central Toronto, Davisville\n, M5S, Downtown Toronto, Harbord\n, M5S, Downtown Toronto, University of Toronto\n, M6S, West Toronto, Runnymede\n, M6S, West Toronto, Swansea\n, M7S, Not assigned, Not assigned\n, M8S, Not assigned, Not assigned\n, M9S, Not assigned, Not assigned\n, M1T, Scarborough, Clarks Corners\n, M1T, Scarborough, Sullivan\n, M1T, Scarborough, Tam O'Shanter\n, M2T, Not assigned, Not assigned\n, M3T, Not assigned, Not assigned\n, M4T, Central Toronto, Moore Park\n, M4T, Central Toronto, Summerhill East\n, M5T, Downtown Toronto, Chinatown\n, M5T, Downtown Toronto, Grange Park\n, M5T, Downtown Toronto, Kensington Market\n, M6T, Not assigned, Not assigned\n, M7T, Not assigned, Not assigned\n, M8T, Not assigned, Not assigned\n, M9T, Not assigned, Not assigned\n, M1V, Scarborough, Agincourt North\n, M1V, Scarborough, L'Amoreaux East\n, M1V, Scarborough, Milliken\n, M1V, Scarborough, Steeles East\n, M2V, Not assigned, Not assigned\n, M3V, Not assigned, Not assigned\n, M4V, Central Toronto, Deer Park\n, M4V, Central Toronto, Forest Hill SE\n, M4V, Central Toronto, Rathnelly\n, M4V, Central Toronto, South Hill\n, M4V, Central Toronto, Summerhill West\n, M5V, Downtown Toronto, CN Tower\n, M5V, Downtown Toronto, Bathurst Quay\n, M5V, Downtown Toronto, Island airport\n, M5V, Downtown Toronto, Harbourfront West\n, M5V, Downtown Toronto, King and Spadina\n, M5V, Downtown Toronto, Railway Lands\n, M5V, Downtown Toronto, South Niagara\n, M6V, Not assigned, Not assigned\n, M7V, Not assigned, Not assigned\n, M8V, Etobicoke, Humber Bay Shores\n, M8V, Etobicoke, Mimico South\n, M8V, Etobicoke, New Toronto\n, M9V, Etobicoke, Albion Gardens\n, M9V, Etobicoke, Beaumond Heights\n, M9V, Etobicoke, Humbergate\n, M9V, Etobicoke, Jamestown\n, M9V, Etobicoke, Mount Olive\n, M9V, Etobicoke, Silverstone\n, M9V, Etobicoke, South Steeles\n, M9V, Etobicoke, Thistletown\n, M1W, Scarborough, L'Amoreaux West\n, M2W, Not assigned, Not assigned\n, M3W, Not assigned, Not assigned\n, M4W, Downtown Toronto, Rosedale\n, M5W, Downtown Toronto, Stn A PO Boxes 25 The Esplanade\n, M6W, Not assigned, Not assigned\n, M7W, Not assigned, Not assigned\n, M8W, Etobicoke, Alderwood\n, M8W, Etobicoke, Long Branch\n, M9W, Etobicoke, Northwest\n, M1X, Scarborough, Upper Rouge\n, M2X, Not assigned, Not assigned\n, M3X, Not assigned, Not assigned\n, M4X, Downtown Toronto, Cabbagetown\n, M4X, Downtown Toronto, St. James Town\n, M5X, Downtown Toronto, First Canadian Place\n, M5X, Downtown Toronto, Underground city\n, M6X, Not assigned, Not assigned\n, M7X, Not assigned, Not assigned\n, M8X, Etobicoke, The Kingsway\n, M8X, Etobicoke, Montgomery Road\n, M8X, Etobicoke, Old Mill North\n, M9X, Not assigned, Not assigned\n, M1Y, Not assigned, Not assigned\n, M2Y, Not assigned, Not assigned\n, M3Y, Not assigned, Not assigned\n, M4Y, Downtown Toronto, Church and Wellesley\n, M5Y, Not assigned, Not assigned\n, M6Y, Not assigned, Not assigned\n, M7Y, East Toronto, Business Reply Mail Processing Centre 969 Eastern\n, M8Y, Etobicoke, Humber Bay\n, M8Y, Etobicoke, King's Mill Park\n, M8Y, Etobicoke, Kingsway Park South East\n, M8Y, Etobicoke, Mimico NE\n, M8Y, Etobicoke, Old Mill South\n, M8Y, Etobicoke, The Queensway East\n, M8Y, Etobicoke, Royal York South East\n, M8Y, Etobicoke, Sunnylea\n, M9Y, Not assigned, Not assigned\n, M1Z, Not assigned, Not assigned\n, M2Z, Not assigned, Not assigned\n, M3Z, Not assigned, Not assigned\n, M4Z, Not assigned, Not assigned\n, M5Z, Not assigned, Not assigned\n, M6Z, Not assigned, Not assigned\n, M7Z, Not assigned, Not assigned\n, M8Z, Etobicoke, Kingsway Park South West\n, M8Z, Etobicoke, Mimico NW\n, M8Z, Etobicoke, The Queensway West\n, M8Z, Etobicoke, Royal York South West\n, M8Z, Etobicoke, South of Bloor\n, M9Z, Not assigned, Not assigned\n]\n"
                }
            ], 
            "execution_count": 6
        }, 
        {
            "source": "Cleaning the data table and converting it into a DataFrame", 
            "cell_type": "markdown", 
            "metadata": {}
        }, 
        {
            "source": "list = cleantext.split(\"\\n\")\ndf = pd.DataFrame(list)\ndf1 = df[0].str.split(',', expand=True)\ndf1.head(10)", 
            "cell_type": "code", 
            "metadata": {}, 
            "outputs": [
                {
                    "output_type": "execute_result", 
                    "data": {
                        "text/html": "<div>\n<style scoped>\n    .dataframe tbody tr th:only-of-type {\n        vertical-align: middle;\n    }\n\n    .dataframe tbody tr th {\n        vertical-align: top;\n    }\n\n    .dataframe thead th {\n        text-align: right;\n    }\n</style>\n<table border=\"1\" class=\"dataframe\">\n  <thead>\n    <tr style=\"text-align: right;\">\n      <th></th>\n      <th>0</th>\n      <th>1</th>\n      <th>2</th>\n      <th>3</th>\n    </tr>\n  </thead>\n  <tbody>\n    <tr>\n      <th>0</th>\n      <td>[M1A</td>\n      <td>Not assigned</td>\n      <td>Not assigned</td>\n      <td>None</td>\n    </tr>\n    <tr>\n      <th>1</th>\n      <td></td>\n      <td>M2A</td>\n      <td>Not assigned</td>\n      <td>Not assigned</td>\n    </tr>\n    <tr>\n      <th>2</th>\n      <td></td>\n      <td>M3A</td>\n      <td>North York</td>\n      <td>Parkwoods</td>\n    </tr>\n    <tr>\n      <th>3</th>\n      <td></td>\n      <td>M4A</td>\n      <td>North York</td>\n      <td>Victoria Village</td>\n    </tr>\n    <tr>\n      <th>4</th>\n      <td></td>\n      <td>M5A</td>\n      <td>Downtown Toronto</td>\n      <td>Harbourfront</td>\n    </tr>\n    <tr>\n      <th>5</th>\n      <td></td>\n      <td>M5A</td>\n      <td>Downtown Toronto</td>\n      <td>Regent Park</td>\n    </tr>\n    <tr>\n      <th>6</th>\n      <td></td>\n      <td>M6A</td>\n      <td>North York</td>\n      <td>Lawrence Heights</td>\n    </tr>\n    <tr>\n      <th>7</th>\n      <td></td>\n      <td>M6A</td>\n      <td>North York</td>\n      <td>Lawrence Manor</td>\n    </tr>\n    <tr>\n      <th>8</th>\n      <td></td>\n      <td>M7A</td>\n      <td>Queen's Park</td>\n      <td>Not assigned</td>\n    </tr>\n    <tr>\n      <th>9</th>\n      <td></td>\n      <td>M8A</td>\n      <td>Not assigned</td>\n      <td>Not assigned</td>\n    </tr>\n  </tbody>\n</table>\n</div>", 
                        "text/plain": "      0              1                  2                  3\n0  [M1A   Not assigned       Not assigned               None\n1                  M2A       Not assigned       Not assigned\n2                  M3A         North York          Parkwoods\n3                  M4A         North York   Victoria Village\n4                  M5A   Downtown Toronto       Harbourfront\n5                  M5A   Downtown Toronto        Regent Park\n6                  M6A         North York   Lawrence Heights\n7                  M6A         North York     Lawrence Manor\n8                  M7A       Queen's Park       Not assigned\n9                  M8A       Not assigned       Not assigned"
                    }, 
                    "execution_count": 7, 
                    "metadata": {}
                }
            ], 
            "execution_count": 7
        }, 
        {
            "source": "#Naming the columns as required\ndf1 = df1.drop(columns=0)\ndf1.iloc[0,0] = 'M1A'\ndf1.columns=[\"PostalCode\",\"Borough\",\"Neighbourhood\"]\ndf1.head()", 
            "cell_type": "code", 
            "metadata": {}, 
            "outputs": [
                {
                    "output_type": "execute_result", 
                    "data": {
                        "text/html": "<div>\n<style scoped>\n    .dataframe tbody tr th:only-of-type {\n        vertical-align: middle;\n    }\n\n    .dataframe tbody tr th {\n        vertical-align: top;\n    }\n\n    .dataframe thead th {\n        text-align: right;\n    }\n</style>\n<table border=\"1\" class=\"dataframe\">\n  <thead>\n    <tr style=\"text-align: right;\">\n      <th></th>\n      <th>PostalCode</th>\n      <th>Borough</th>\n      <th>Neighbourhood</th>\n    </tr>\n  </thead>\n  <tbody>\n    <tr>\n      <th>0</th>\n      <td>M1A</td>\n      <td>Not assigned</td>\n      <td>None</td>\n    </tr>\n    <tr>\n      <th>1</th>\n      <td>M2A</td>\n      <td>Not assigned</td>\n      <td>Not assigned</td>\n    </tr>\n    <tr>\n      <th>2</th>\n      <td>M3A</td>\n      <td>North York</td>\n      <td>Parkwoods</td>\n    </tr>\n    <tr>\n      <th>3</th>\n      <td>M4A</td>\n      <td>North York</td>\n      <td>Victoria Village</td>\n    </tr>\n    <tr>\n      <th>4</th>\n      <td>M5A</td>\n      <td>Downtown Toronto</td>\n      <td>Harbourfront</td>\n    </tr>\n  </tbody>\n</table>\n</div>", 
                        "text/plain": "  PostalCode            Borough      Neighbourhood\n0        M1A       Not assigned               None\n1        M2A       Not assigned       Not assigned\n2        M3A         North York          Parkwoods\n3        M4A         North York   Victoria Village\n4        M5A   Downtown Toronto       Harbourfront"
                    }, 
                    "execution_count": 8, 
                    "metadata": {}
                }
            ], 
            "execution_count": 8
        }, 
        {
            "source": "#Deleting Rows where the Borough is not assigned\ndf2=df1\ndf2['Borough'] = df2['Borough'].str.strip()\ndf3 = df2\ndf3.drop(df3[df3.Borough == 'Not assigned'].index, inplace=True)", 
            "cell_type": "code", 
            "metadata": {}, 
            "outputs": [], 
            "execution_count": 10
        }, 
        {
            "source": "df3.head()", 
            "cell_type": "code", 
            "metadata": {}, 
            "outputs": [
                {
                    "output_type": "execute_result", 
                    "data": {
                        "text/html": "<div>\n<style scoped>\n    .dataframe tbody tr th:only-of-type {\n        vertical-align: middle;\n    }\n\n    .dataframe tbody tr th {\n        vertical-align: top;\n    }\n\n    .dataframe thead th {\n        text-align: right;\n    }\n</style>\n<table border=\"1\" class=\"dataframe\">\n  <thead>\n    <tr style=\"text-align: right;\">\n      <th></th>\n      <th>PostalCode</th>\n      <th>Borough</th>\n      <th>Neighbourhood</th>\n    </tr>\n  </thead>\n  <tbody>\n    <tr>\n      <th>2</th>\n      <td>M3A</td>\n      <td>North York</td>\n      <td>Parkwoods</td>\n    </tr>\n    <tr>\n      <th>3</th>\n      <td>M4A</td>\n      <td>North York</td>\n      <td>Victoria Village</td>\n    </tr>\n    <tr>\n      <th>4</th>\n      <td>M5A</td>\n      <td>Downtown Toronto</td>\n      <td>Harbourfront</td>\n    </tr>\n    <tr>\n      <th>5</th>\n      <td>M5A</td>\n      <td>Downtown Toronto</td>\n      <td>Regent Park</td>\n    </tr>\n    <tr>\n      <th>6</th>\n      <td>M6A</td>\n      <td>North York</td>\n      <td>Lawrence Heights</td>\n    </tr>\n  </tbody>\n</table>\n</div>", 
                        "text/plain": "  PostalCode           Borough      Neighbourhood\n2        M3A        North York          Parkwoods\n3        M4A        North York   Victoria Village\n4        M5A  Downtown Toronto       Harbourfront\n5        M5A  Downtown Toronto        Regent Park\n6        M6A        North York   Lawrence Heights"
                    }, 
                    "execution_count": 11, 
                    "metadata": {}
                }
            ], 
            "execution_count": 11
        }, 
        {
            "source": "#for Neighrbourhoods which are not assigned, assigning the value of the Borough\ndf3['Neighbourhood'] = df3['Neighbourhood'].str.strip()\ndf3.loc[df3['Neighbourhood'] == 'Not assigned', 'Neighbourhood'] = df3['Borough']", 
            "cell_type": "code", 
            "metadata": {
                "scrolled": false
            }, 
            "outputs": [
                {
                    "output_type": "execute_result", 
                    "data": {
                        "text/plain": "(212, 3)"
                    }, 
                    "execution_count": 12, 
                    "metadata": {}
                }
            ], 
            "execution_count": 12
        }, 
        {
            "source": "df3.drop(df3.index[[211]], inplace=True)", 
            "cell_type": "code", 
            "metadata": {}, 
            "outputs": [], 
            "execution_count": 13
        }, 
        {
            "source": "# Final Shape of the DataFrame after cleaning is (211, 3)", 
            "cell_type": "markdown", 
            "metadata": {}
        }, 
        {
            "source": "#Part 1 - Final Shape of the Required Data Frame\ndf3.shape", 
            "cell_type": "code", 
            "metadata": {}, 
            "outputs": [
                {
                    "output_type": "execute_result", 
                    "data": {
                        "text/plain": "(211, 3)"
                    }, 
                    "execution_count": 14, 
                    "metadata": {}
                }
            ], 
            "execution_count": 14
        }, 
        {
            "source": "df4 = df3.reset_index(drop=True)", 
            "cell_type": "code", 
            "metadata": {}, 
            "outputs": [], 
            "execution_count": 15
        }, 
        {
            "source": "latlon = pd.read_csv('http://cocl.us/Geospatial_data')", 
            "cell_type": "code", 
            "metadata": {}, 
            "outputs": [], 
            "execution_count": 16
        }, 
        {
            "source": "latlon.head()", 
            "cell_type": "code", 
            "metadata": {}, 
            "outputs": [
                {
                    "output_type": "execute_result", 
                    "data": {
                        "text/html": "<div>\n<style scoped>\n    .dataframe tbody tr th:only-of-type {\n        vertical-align: middle;\n    }\n\n    .dataframe tbody tr th {\n        vertical-align: top;\n    }\n\n    .dataframe thead th {\n        text-align: right;\n    }\n</style>\n<table border=\"1\" class=\"dataframe\">\n  <thead>\n    <tr style=\"text-align: right;\">\n      <th></th>\n      <th>Postal Code</th>\n      <th>Latitude</th>\n      <th>Longitude</th>\n    </tr>\n  </thead>\n  <tbody>\n    <tr>\n      <th>0</th>\n      <td>M1B</td>\n      <td>43.806686</td>\n      <td>-79.194353</td>\n    </tr>\n    <tr>\n      <th>1</th>\n      <td>M1C</td>\n      <td>43.784535</td>\n      <td>-79.160497</td>\n    </tr>\n    <tr>\n      <th>2</th>\n      <td>M1E</td>\n      <td>43.763573</td>\n      <td>-79.188711</td>\n    </tr>\n    <tr>\n      <th>3</th>\n      <td>M1G</td>\n      <td>43.770992</td>\n      <td>-79.216917</td>\n    </tr>\n    <tr>\n      <th>4</th>\n      <td>M1H</td>\n      <td>43.773136</td>\n      <td>-79.239476</td>\n    </tr>\n  </tbody>\n</table>\n</div>", 
                        "text/plain": "  Postal Code   Latitude  Longitude\n0         M1B  43.806686 -79.194353\n1         M1C  43.784535 -79.160497\n2         M1E  43.763573 -79.188711\n3         M1G  43.770992 -79.216917\n4         M1H  43.773136 -79.239476"
                    }, 
                    "execution_count": 17, 
                    "metadata": {}
                }
            ], 
            "execution_count": 17
        }, 
        {
            "source": "df4.head()", 
            "cell_type": "code", 
            "metadata": {}, 
            "outputs": [
                {
                    "output_type": "execute_result", 
                    "data": {
                        "text/html": "<div>\n<style scoped>\n    .dataframe tbody tr th:only-of-type {\n        vertical-align: middle;\n    }\n\n    .dataframe tbody tr th {\n        vertical-align: top;\n    }\n\n    .dataframe thead th {\n        text-align: right;\n    }\n</style>\n<table border=\"1\" class=\"dataframe\">\n  <thead>\n    <tr style=\"text-align: right;\">\n      <th></th>\n      <th>PostalCode</th>\n      <th>Borough</th>\n      <th>Neighbourhood</th>\n    </tr>\n  </thead>\n  <tbody>\n    <tr>\n      <th>0</th>\n      <td>M3A</td>\n      <td>North York</td>\n      <td>Parkwoods</td>\n    </tr>\n    <tr>\n      <th>1</th>\n      <td>M4A</td>\n      <td>North York</td>\n      <td>Victoria Village</td>\n    </tr>\n    <tr>\n      <th>2</th>\n      <td>M5A</td>\n      <td>Downtown Toronto</td>\n      <td>Harbourfront</td>\n    </tr>\n    <tr>\n      <th>3</th>\n      <td>M5A</td>\n      <td>Downtown Toronto</td>\n      <td>Regent Park</td>\n    </tr>\n    <tr>\n      <th>4</th>\n      <td>M6A</td>\n      <td>North York</td>\n      <td>Lawrence Heights</td>\n    </tr>\n  </tbody>\n</table>\n</div>", 
                        "text/plain": "  PostalCode           Borough     Neighbourhood\n0        M3A        North York         Parkwoods\n1        M4A        North York  Victoria Village\n2        M5A  Downtown Toronto      Harbourfront\n3        M5A  Downtown Toronto       Regent Park\n4        M6A        North York  Lawrence Heights"
                    }, 
                    "execution_count": 26, 
                    "metadata": {}
                }
            ], 
            "execution_count": 26
        }, 
        {
            "source": "type(latlon.iloc[0,0])", 
            "cell_type": "code", 
            "metadata": {}, 
            "outputs": [
                {
                    "output_type": "execute_result", 
                    "data": {
                        "text/plain": "str"
                    }, 
                    "execution_count": 18, 
                    "metadata": {}
                }
            ], 
            "execution_count": 18
        }, 
        {
            "source": "type(df4.iloc[0,1])", 
            "cell_type": "code", 
            "metadata": {}, 
            "outputs": [
                {
                    "output_type": "execute_result", 
                    "data": {
                        "text/plain": "str"
                    }, 
                    "execution_count": 42, 
                    "metadata": {}
                }
            ], 
            "execution_count": 42
        }, 
        {
            "source": "latlon['Postal Code'] = latlon['Postal Code'].str.lstrip()", 
            "cell_type": "code", 
            "metadata": {}, 
            "outputs": [], 
            "execution_count": 38
        }, 
        {
            "source": "df4['PostalCode'] = df4['PostalCode'].str.strip()\nvalue = latlon.iloc[0,0]\nvalue", 
            "cell_type": "code", 
            "metadata": {}, 
            "outputs": [
                {
                    "output_type": "execute_result", 
                    "data": {
                        "text/plain": "'M1B'"
                    }, 
                    "execution_count": 41, 
                    "metadata": {}
                }
            ], 
            "execution_count": 41
        }, 
        {
            "source": "merged_left = pd.merge(left=df4,right=latlon, left_on='PostalCode', right_on='Postal Code', how='left', indicator=True)", 
            "cell_type": "code", 
            "metadata": {}, 
            "outputs": [], 
            "execution_count": 53
        }, 
        {
            "source": "merged_left.head()", 
            "cell_type": "code", 
            "metadata": {}, 
            "outputs": [
                {
                    "output_type": "execute_result", 
                    "data": {
                        "text/html": "<div>\n<style scoped>\n    .dataframe tbody tr th:only-of-type {\n        vertical-align: middle;\n    }\n\n    .dataframe tbody tr th {\n        vertical-align: top;\n    }\n\n    .dataframe thead th {\n        text-align: right;\n    }\n</style>\n<table border=\"1\" class=\"dataframe\">\n  <thead>\n    <tr style=\"text-align: right;\">\n      <th></th>\n      <th>PostalCode</th>\n      <th>Borough</th>\n      <th>Neighbourhood</th>\n      <th>Postal Code</th>\n      <th>Latitude</th>\n      <th>Longitude</th>\n      <th>_merge</th>\n    </tr>\n  </thead>\n  <tbody>\n    <tr>\n      <th>0</th>\n      <td>M3A</td>\n      <td>North York</td>\n      <td>Parkwoods</td>\n      <td>M3A</td>\n      <td>43.753259</td>\n      <td>-79.329656</td>\n      <td>both</td>\n    </tr>\n    <tr>\n      <th>1</th>\n      <td>M4A</td>\n      <td>North York</td>\n      <td>Victoria Village</td>\n      <td>M4A</td>\n      <td>43.725882</td>\n      <td>-79.315572</td>\n      <td>both</td>\n    </tr>\n    <tr>\n      <th>2</th>\n      <td>M5A</td>\n      <td>Downtown Toronto</td>\n      <td>Harbourfront</td>\n      <td>M5A</td>\n      <td>43.654260</td>\n      <td>-79.360636</td>\n      <td>both</td>\n    </tr>\n    <tr>\n      <th>3</th>\n      <td>M5A</td>\n      <td>Downtown Toronto</td>\n      <td>Regent Park</td>\n      <td>M5A</td>\n      <td>43.654260</td>\n      <td>-79.360636</td>\n      <td>both</td>\n    </tr>\n    <tr>\n      <th>4</th>\n      <td>M6A</td>\n      <td>North York</td>\n      <td>Lawrence Heights</td>\n      <td>M6A</td>\n      <td>43.718518</td>\n      <td>-79.464763</td>\n      <td>both</td>\n    </tr>\n  </tbody>\n</table>\n</div>", 
                        "text/plain": "  PostalCode           Borough     Neighbourhood Postal Code   Latitude  \\\n0        M3A        North York         Parkwoods         M3A  43.753259   \n1        M4A        North York  Victoria Village         M4A  43.725882   \n2        M5A  Downtown Toronto      Harbourfront         M5A  43.654260   \n3        M5A  Downtown Toronto       Regent Park         M5A  43.654260   \n4        M6A        North York  Lawrence Heights         M6A  43.718518   \n\n   Longitude _merge  \n0 -79.329656   both  \n1 -79.315572   both  \n2 -79.360636   both  \n3 -79.360636   both  \n4 -79.464763   both  "
                    }, 
                    "execution_count": 54, 
                    "metadata": {}
                }
            ], 
            "execution_count": 54
        }, 
        {
            "source": "merged_left", 
            "cell_type": "code", 
            "metadata": {}, 
            "outputs": [
                {
                    "output_type": "execute_result", 
                    "data": {
                        "text/html": "<div>\n<style scoped>\n    .dataframe tbody tr th:only-of-type {\n        vertical-align: middle;\n    }\n\n    .dataframe tbody tr th {\n        vertical-align: top;\n    }\n\n    .dataframe thead th {\n        text-align: right;\n    }\n</style>\n<table border=\"1\" class=\"dataframe\">\n  <thead>\n    <tr style=\"text-align: right;\">\n      <th></th>\n      <th>PostalCode</th>\n      <th>Borough</th>\n      <th>Neighbourhood</th>\n      <th>Postal Code</th>\n      <th>Latitude</th>\n      <th>Longitude</th>\n      <th>_merge</th>\n    </tr>\n  </thead>\n  <tbody>\n    <tr>\n      <th>0</th>\n      <td>M3A</td>\n      <td>North York</td>\n      <td>Parkwoods</td>\n      <td>M3A</td>\n      <td>43.753259</td>\n      <td>-79.329656</td>\n      <td>both</td>\n    </tr>\n    <tr>\n      <th>1</th>\n      <td>M4A</td>\n      <td>North York</td>\n      <td>Victoria Village</td>\n      <td>M4A</td>\n      <td>43.725882</td>\n      <td>-79.315572</td>\n      <td>both</td>\n    </tr>\n    <tr>\n      <th>2</th>\n      <td>M5A</td>\n      <td>Downtown Toronto</td>\n      <td>Harbourfront</td>\n      <td>M5A</td>\n      <td>43.654260</td>\n      <td>-79.360636</td>\n      <td>both</td>\n    </tr>\n    <tr>\n      <th>3</th>\n      <td>M5A</td>\n      <td>Downtown Toronto</td>\n      <td>Regent Park</td>\n      <td>M5A</td>\n      <td>43.654260</td>\n      <td>-79.360636</td>\n      <td>both</td>\n    </tr>\n    <tr>\n      <th>4</th>\n      <td>M6A</td>\n      <td>North York</td>\n      <td>Lawrence Heights</td>\n      <td>M6A</td>\n      <td>43.718518</td>\n      <td>-79.464763</td>\n      <td>both</td>\n    </tr>\n    <tr>\n      <th>5</th>\n      <td>M6A</td>\n      <td>North York</td>\n      <td>Lawrence Manor</td>\n      <td>M6A</td>\n      <td>43.718518</td>\n      <td>-79.464763</td>\n      <td>both</td>\n    </tr>\n    <tr>\n      <th>6</th>\n      <td>M7A</td>\n      <td>Queen's Park</td>\n      <td>Queen's Park</td>\n      <td>M7A</td>\n      <td>43.662301</td>\n      <td>-79.389494</td>\n      <td>both</td>\n    </tr>\n    <tr>\n      <th>7</th>\n      <td>M9A</td>\n      <td>Etobicoke</td>\n      <td>Islington Avenue</td>\n      <td>M9A</td>\n      <td>43.667856</td>\n      <td>-79.532242</td>\n      <td>both</td>\n    </tr>\n    <tr>\n      <th>8</th>\n      <td>M1B</td>\n      <td>Scarborough</td>\n      <td>Rouge</td>\n      <td>M1B</td>\n      <td>43.806686</td>\n      <td>-79.194353</td>\n      <td>both</td>\n    </tr>\n    <tr>\n      <th>9</th>\n      <td>M1B</td>\n      <td>Scarborough</td>\n      <td>Malvern</td>\n      <td>M1B</td>\n      <td>43.806686</td>\n      <td>-79.194353</td>\n      <td>both</td>\n    </tr>\n    <tr>\n      <th>10</th>\n      <td>M3B</td>\n      <td>North York</td>\n      <td>Don Mills North</td>\n      <td>M3B</td>\n      <td>43.745906</td>\n      <td>-79.352188</td>\n      <td>both</td>\n    </tr>\n    <tr>\n      <th>11</th>\n      <td>M4B</td>\n      <td>East York</td>\n      <td>Woodbine Gardens</td>\n      <td>M4B</td>\n      <td>43.706397</td>\n      <td>-79.309937</td>\n      <td>both</td>\n    </tr>\n    <tr>\n      <th>12</th>\n      <td>M4B</td>\n      <td>East York</td>\n      <td>Parkview Hill</td>\n      <td>M4B</td>\n      <td>43.706397</td>\n      <td>-79.309937</td>\n      <td>both</td>\n    </tr>\n    <tr>\n      <th>13</th>\n      <td>M5B</td>\n      <td>Downtown Toronto</td>\n      <td>Ryerson</td>\n      <td>M5B</td>\n      <td>43.657162</td>\n      <td>-79.378937</td>\n      <td>both</td>\n    </tr>\n    <tr>\n      <th>14</th>\n      <td>M5B</td>\n      <td>Downtown Toronto</td>\n      <td>Garden District</td>\n      <td>M5B</td>\n      <td>43.657162</td>\n      <td>-79.378937</td>\n      <td>both</td>\n    </tr>\n    <tr>\n      <th>15</th>\n      <td>M6B</td>\n      <td>North York</td>\n      <td>Glencairn</td>\n      <td>M6B</td>\n      <td>43.709577</td>\n      <td>-79.445073</td>\n      <td>both</td>\n    </tr>\n    <tr>\n      <th>16</th>\n      <td>M9B</td>\n      <td>Etobicoke</td>\n      <td>Cloverdale</td>\n      <td>M9B</td>\n      <td>43.650943</td>\n      <td>-79.554724</td>\n      <td>both</td>\n    </tr>\n    <tr>\n      <th>17</th>\n      <td>M9B</td>\n      <td>Etobicoke</td>\n      <td>Islington</td>\n      <td>M9B</td>\n      <td>43.650943</td>\n      <td>-79.554724</td>\n      <td>both</td>\n    </tr>\n    <tr>\n      <th>18</th>\n      <td>M9B</td>\n      <td>Etobicoke</td>\n      <td>Martin Grove</td>\n      <td>M9B</td>\n      <td>43.650943</td>\n      <td>-79.554724</td>\n      <td>both</td>\n    </tr>\n    <tr>\n      <th>19</th>\n      <td>M9B</td>\n      <td>Etobicoke</td>\n      <td>Princess Gardens</td>\n      <td>M9B</td>\n      <td>43.650943</td>\n      <td>-79.554724</td>\n      <td>both</td>\n    </tr>\n    <tr>\n      <th>20</th>\n      <td>M9B</td>\n      <td>Etobicoke</td>\n      <td>West Deane Park</td>\n      <td>M9B</td>\n      <td>43.650943</td>\n      <td>-79.554724</td>\n      <td>both</td>\n    </tr>\n    <tr>\n      <th>21</th>\n      <td>M1C</td>\n      <td>Scarborough</td>\n      <td>Highland Creek</td>\n      <td>M1C</td>\n      <td>43.784535</td>\n      <td>-79.160497</td>\n      <td>both</td>\n    </tr>\n    <tr>\n      <th>22</th>\n      <td>M1C</td>\n      <td>Scarborough</td>\n      <td>Rouge Hill</td>\n      <td>M1C</td>\n      <td>43.784535</td>\n      <td>-79.160497</td>\n      <td>both</td>\n    </tr>\n    <tr>\n      <th>23</th>\n      <td>M1C</td>\n      <td>Scarborough</td>\n      <td>Port Union</td>\n      <td>M1C</td>\n      <td>43.784535</td>\n      <td>-79.160497</td>\n      <td>both</td>\n    </tr>\n    <tr>\n      <th>24</th>\n      <td>M3C</td>\n      <td>North York</td>\n      <td>Flemingdon Park</td>\n      <td>M3C</td>\n      <td>43.725900</td>\n      <td>-79.340923</td>\n      <td>both</td>\n    </tr>\n    <tr>\n      <th>25</th>\n      <td>M3C</td>\n      <td>North York</td>\n      <td>Don Mills South</td>\n      <td>M3C</td>\n      <td>43.725900</td>\n      <td>-79.340923</td>\n      <td>both</td>\n    </tr>\n    <tr>\n      <th>26</th>\n      <td>M4C</td>\n      <td>East York</td>\n      <td>Woodbine Heights</td>\n      <td>M4C</td>\n      <td>43.695344</td>\n      <td>-79.318389</td>\n      <td>both</td>\n    </tr>\n    <tr>\n      <th>27</th>\n      <td>M5C</td>\n      <td>Downtown Toronto</td>\n      <td>St. James Town</td>\n      <td>M5C</td>\n      <td>43.651494</td>\n      <td>-79.375418</td>\n      <td>both</td>\n    </tr>\n    <tr>\n      <th>28</th>\n      <td>M6C</td>\n      <td>York</td>\n      <td>Humewood-Cedarvale</td>\n      <td>M6C</td>\n      <td>43.693781</td>\n      <td>-79.428191</td>\n      <td>both</td>\n    </tr>\n    <tr>\n      <th>29</th>\n      <td>M9C</td>\n      <td>Etobicoke</td>\n      <td>Bloordale Gardens</td>\n      <td>M9C</td>\n      <td>43.643515</td>\n      <td>-79.577201</td>\n      <td>both</td>\n    </tr>\n    <tr>\n      <th>...</th>\n      <td>...</td>\n      <td>...</td>\n      <td>...</td>\n      <td>...</td>\n      <td>...</td>\n      <td>...</td>\n      <td>...</td>\n    </tr>\n    <tr>\n      <th>181</th>\n      <td>M9V</td>\n      <td>Etobicoke</td>\n      <td>Thistletown</td>\n      <td>M9V</td>\n      <td>43.739416</td>\n      <td>-79.588437</td>\n      <td>both</td>\n    </tr>\n    <tr>\n      <th>182</th>\n      <td>M1W</td>\n      <td>Scarborough</td>\n      <td>L'Amoreaux West</td>\n      <td>M1W</td>\n      <td>43.799525</td>\n      <td>-79.318389</td>\n      <td>both</td>\n    </tr>\n    <tr>\n      <th>183</th>\n      <td>M4W</td>\n      <td>Downtown Toronto</td>\n      <td>Rosedale</td>\n      <td>M4W</td>\n      <td>43.679563</td>\n      <td>-79.377529</td>\n      <td>both</td>\n    </tr>\n    <tr>\n      <th>184</th>\n      <td>M5W</td>\n      <td>Downtown Toronto</td>\n      <td>Stn A PO Boxes 25 The Esplanade</td>\n      <td>M5W</td>\n      <td>43.646435</td>\n      <td>-79.374846</td>\n      <td>both</td>\n    </tr>\n    <tr>\n      <th>185</th>\n      <td>M8W</td>\n      <td>Etobicoke</td>\n      <td>Alderwood</td>\n      <td>M8W</td>\n      <td>43.602414</td>\n      <td>-79.543484</td>\n      <td>both</td>\n    </tr>\n    <tr>\n      <th>186</th>\n      <td>M8W</td>\n      <td>Etobicoke</td>\n      <td>Long Branch</td>\n      <td>M8W</td>\n      <td>43.602414</td>\n      <td>-79.543484</td>\n      <td>both</td>\n    </tr>\n    <tr>\n      <th>187</th>\n      <td>M9W</td>\n      <td>Etobicoke</td>\n      <td>Northwest</td>\n      <td>M9W</td>\n      <td>43.706748</td>\n      <td>-79.594054</td>\n      <td>both</td>\n    </tr>\n    <tr>\n      <th>188</th>\n      <td>M1X</td>\n      <td>Scarborough</td>\n      <td>Upper Rouge</td>\n      <td>M1X</td>\n      <td>43.836125</td>\n      <td>-79.205636</td>\n      <td>both</td>\n    </tr>\n    <tr>\n      <th>189</th>\n      <td>M4X</td>\n      <td>Downtown Toronto</td>\n      <td>Cabbagetown</td>\n      <td>M4X</td>\n      <td>43.667967</td>\n      <td>-79.367675</td>\n      <td>both</td>\n    </tr>\n    <tr>\n      <th>190</th>\n      <td>M4X</td>\n      <td>Downtown Toronto</td>\n      <td>St. James Town</td>\n      <td>M4X</td>\n      <td>43.667967</td>\n      <td>-79.367675</td>\n      <td>both</td>\n    </tr>\n    <tr>\n      <th>191</th>\n      <td>M5X</td>\n      <td>Downtown Toronto</td>\n      <td>First Canadian Place</td>\n      <td>M5X</td>\n      <td>43.648429</td>\n      <td>-79.382280</td>\n      <td>both</td>\n    </tr>\n    <tr>\n      <th>192</th>\n      <td>M5X</td>\n      <td>Downtown Toronto</td>\n      <td>Underground city</td>\n      <td>M5X</td>\n      <td>43.648429</td>\n      <td>-79.382280</td>\n      <td>both</td>\n    </tr>\n    <tr>\n      <th>193</th>\n      <td>M8X</td>\n      <td>Etobicoke</td>\n      <td>The Kingsway</td>\n      <td>M8X</td>\n      <td>43.653654</td>\n      <td>-79.506944</td>\n      <td>both</td>\n    </tr>\n    <tr>\n      <th>194</th>\n      <td>M8X</td>\n      <td>Etobicoke</td>\n      <td>Montgomery Road</td>\n      <td>M8X</td>\n      <td>43.653654</td>\n      <td>-79.506944</td>\n      <td>both</td>\n    </tr>\n    <tr>\n      <th>195</th>\n      <td>M8X</td>\n      <td>Etobicoke</td>\n      <td>Old Mill North</td>\n      <td>M8X</td>\n      <td>43.653654</td>\n      <td>-79.506944</td>\n      <td>both</td>\n    </tr>\n    <tr>\n      <th>196</th>\n      <td>M4Y</td>\n      <td>Downtown Toronto</td>\n      <td>Church and Wellesley</td>\n      <td>M4Y</td>\n      <td>43.665860</td>\n      <td>-79.383160</td>\n      <td>both</td>\n    </tr>\n    <tr>\n      <th>197</th>\n      <td>M7Y</td>\n      <td>East Toronto</td>\n      <td>Business Reply Mail Processing Centre 969 Eastern</td>\n      <td>M7Y</td>\n      <td>43.662744</td>\n      <td>-79.321558</td>\n      <td>both</td>\n    </tr>\n    <tr>\n      <th>198</th>\n      <td>M8Y</td>\n      <td>Etobicoke</td>\n      <td>Humber Bay</td>\n      <td>M8Y</td>\n      <td>43.636258</td>\n      <td>-79.498509</td>\n      <td>both</td>\n    </tr>\n    <tr>\n      <th>199</th>\n      <td>M8Y</td>\n      <td>Etobicoke</td>\n      <td>King's Mill Park</td>\n      <td>M8Y</td>\n      <td>43.636258</td>\n      <td>-79.498509</td>\n      <td>both</td>\n    </tr>\n    <tr>\n      <th>200</th>\n      <td>M8Y</td>\n      <td>Etobicoke</td>\n      <td>Kingsway Park South East</td>\n      <td>M8Y</td>\n      <td>43.636258</td>\n      <td>-79.498509</td>\n      <td>both</td>\n    </tr>\n    <tr>\n      <th>201</th>\n      <td>M8Y</td>\n      <td>Etobicoke</td>\n      <td>Mimico NE</td>\n      <td>M8Y</td>\n      <td>43.636258</td>\n      <td>-79.498509</td>\n      <td>both</td>\n    </tr>\n    <tr>\n      <th>202</th>\n      <td>M8Y</td>\n      <td>Etobicoke</td>\n      <td>Old Mill South</td>\n      <td>M8Y</td>\n      <td>43.636258</td>\n      <td>-79.498509</td>\n      <td>both</td>\n    </tr>\n    <tr>\n      <th>203</th>\n      <td>M8Y</td>\n      <td>Etobicoke</td>\n      <td>The Queensway East</td>\n      <td>M8Y</td>\n      <td>43.636258</td>\n      <td>-79.498509</td>\n      <td>both</td>\n    </tr>\n    <tr>\n      <th>204</th>\n      <td>M8Y</td>\n      <td>Etobicoke</td>\n      <td>Royal York South East</td>\n      <td>M8Y</td>\n      <td>43.636258</td>\n      <td>-79.498509</td>\n      <td>both</td>\n    </tr>\n    <tr>\n      <th>205</th>\n      <td>M8Y</td>\n      <td>Etobicoke</td>\n      <td>Sunnylea</td>\n      <td>M8Y</td>\n      <td>43.636258</td>\n      <td>-79.498509</td>\n      <td>both</td>\n    </tr>\n    <tr>\n      <th>206</th>\n      <td>M8Z</td>\n      <td>Etobicoke</td>\n      <td>Kingsway Park South West</td>\n      <td>M8Z</td>\n      <td>43.628841</td>\n      <td>-79.520999</td>\n      <td>both</td>\n    </tr>\n    <tr>\n      <th>207</th>\n      <td>M8Z</td>\n      <td>Etobicoke</td>\n      <td>Mimico NW</td>\n      <td>M8Z</td>\n      <td>43.628841</td>\n      <td>-79.520999</td>\n      <td>both</td>\n    </tr>\n    <tr>\n      <th>208</th>\n      <td>M8Z</td>\n      <td>Etobicoke</td>\n      <td>The Queensway West</td>\n      <td>M8Z</td>\n      <td>43.628841</td>\n      <td>-79.520999</td>\n      <td>both</td>\n    </tr>\n    <tr>\n      <th>209</th>\n      <td>M8Z</td>\n      <td>Etobicoke</td>\n      <td>Royal York South West</td>\n      <td>M8Z</td>\n      <td>43.628841</td>\n      <td>-79.520999</td>\n      <td>both</td>\n    </tr>\n    <tr>\n      <th>210</th>\n      <td>M8Z</td>\n      <td>Etobicoke</td>\n      <td>South of Bloor</td>\n      <td>M8Z</td>\n      <td>43.628841</td>\n      <td>-79.520999</td>\n      <td>both</td>\n    </tr>\n  </tbody>\n</table>\n<p>211 rows \u00d7 7 columns</p>\n</div>", 
                        "text/plain": "    PostalCode           Borough  \\\n0          M3A        North York   \n1          M4A        North York   \n2          M5A  Downtown Toronto   \n3          M5A  Downtown Toronto   \n4          M6A        North York   \n5          M6A        North York   \n6          M7A      Queen's Park   \n7          M9A         Etobicoke   \n8          M1B       Scarborough   \n9          M1B       Scarborough   \n10         M3B        North York   \n11         M4B         East York   \n12         M4B         East York   \n13         M5B  Downtown Toronto   \n14         M5B  Downtown Toronto   \n15         M6B        North York   \n16         M9B         Etobicoke   \n17         M9B         Etobicoke   \n18         M9B         Etobicoke   \n19         M9B         Etobicoke   \n20         M9B         Etobicoke   \n21         M1C       Scarborough   \n22         M1C       Scarborough   \n23         M1C       Scarborough   \n24         M3C        North York   \n25         M3C        North York   \n26         M4C         East York   \n27         M5C  Downtown Toronto   \n28         M6C              York   \n29         M9C         Etobicoke   \n..         ...               ...   \n181        M9V         Etobicoke   \n182        M1W       Scarborough   \n183        M4W  Downtown Toronto   \n184        M5W  Downtown Toronto   \n185        M8W         Etobicoke   \n186        M8W         Etobicoke   \n187        M9W         Etobicoke   \n188        M1X       Scarborough   \n189        M4X  Downtown Toronto   \n190        M4X  Downtown Toronto   \n191        M5X  Downtown Toronto   \n192        M5X  Downtown Toronto   \n193        M8X         Etobicoke   \n194        M8X         Etobicoke   \n195        M8X         Etobicoke   \n196        M4Y  Downtown Toronto   \n197        M7Y      East Toronto   \n198        M8Y         Etobicoke   \n199        M8Y         Etobicoke   \n200        M8Y         Etobicoke   \n201        M8Y         Etobicoke   \n202        M8Y         Etobicoke   \n203        M8Y         Etobicoke   \n204        M8Y         Etobicoke   \n205        M8Y         Etobicoke   \n206        M8Z         Etobicoke   \n207        M8Z         Etobicoke   \n208        M8Z         Etobicoke   \n209        M8Z         Etobicoke   \n210        M8Z         Etobicoke   \n\n                                         Neighbourhood Postal Code   Latitude  \\\n0                                            Parkwoods         M3A  43.753259   \n1                                     Victoria Village         M4A  43.725882   \n2                                         Harbourfront         M5A  43.654260   \n3                                          Regent Park         M5A  43.654260   \n4                                     Lawrence Heights         M6A  43.718518   \n5                                       Lawrence Manor         M6A  43.718518   \n6                                         Queen's Park         M7A  43.662301   \n7                                     Islington Avenue         M9A  43.667856   \n8                                                Rouge         M1B  43.806686   \n9                                              Malvern         M1B  43.806686   \n10                                     Don Mills North         M3B  43.745906   \n11                                    Woodbine Gardens         M4B  43.706397   \n12                                       Parkview Hill         M4B  43.706397   \n13                                             Ryerson         M5B  43.657162   \n14                                     Garden District         M5B  43.657162   \n15                                           Glencairn         M6B  43.709577   \n16                                          Cloverdale         M9B  43.650943   \n17                                           Islington         M9B  43.650943   \n18                                        Martin Grove         M9B  43.650943   \n19                                    Princess Gardens         M9B  43.650943   \n20                                     West Deane Park         M9B  43.650943   \n21                                      Highland Creek         M1C  43.784535   \n22                                          Rouge Hill         M1C  43.784535   \n23                                          Port Union         M1C  43.784535   \n24                                     Flemingdon Park         M3C  43.725900   \n25                                     Don Mills South         M3C  43.725900   \n26                                    Woodbine Heights         M4C  43.695344   \n27                                      St. James Town         M5C  43.651494   \n28                                  Humewood-Cedarvale         M6C  43.693781   \n29                                   Bloordale Gardens         M9C  43.643515   \n..                                                 ...         ...        ...   \n181                                        Thistletown         M9V  43.739416   \n182                                    L'Amoreaux West         M1W  43.799525   \n183                                           Rosedale         M4W  43.679563   \n184                    Stn A PO Boxes 25 The Esplanade         M5W  43.646435   \n185                                          Alderwood         M8W  43.602414   \n186                                        Long Branch         M8W  43.602414   \n187                                          Northwest         M9W  43.706748   \n188                                        Upper Rouge         M1X  43.836125   \n189                                        Cabbagetown         M4X  43.667967   \n190                                     St. James Town         M4X  43.667967   \n191                               First Canadian Place         M5X  43.648429   \n192                                   Underground city         M5X  43.648429   \n193                                       The Kingsway         M8X  43.653654   \n194                                    Montgomery Road         M8X  43.653654   \n195                                     Old Mill North         M8X  43.653654   \n196                               Church and Wellesley         M4Y  43.665860   \n197  Business Reply Mail Processing Centre 969 Eastern         M7Y  43.662744   \n198                                         Humber Bay         M8Y  43.636258   \n199                                   King's Mill Park         M8Y  43.636258   \n200                           Kingsway Park South East         M8Y  43.636258   \n201                                          Mimico NE         M8Y  43.636258   \n202                                     Old Mill South         M8Y  43.636258   \n203                                 The Queensway East         M8Y  43.636258   \n204                              Royal York South East         M8Y  43.636258   \n205                                           Sunnylea         M8Y  43.636258   \n206                           Kingsway Park South West         M8Z  43.628841   \n207                                          Mimico NW         M8Z  43.628841   \n208                                 The Queensway West         M8Z  43.628841   \n209                              Royal York South West         M8Z  43.628841   \n210                                     South of Bloor         M8Z  43.628841   \n\n     Longitude _merge  \n0   -79.329656   both  \n1   -79.315572   both  \n2   -79.360636   both  \n3   -79.360636   both  \n4   -79.464763   both  \n5   -79.464763   both  \n6   -79.389494   both  \n7   -79.532242   both  \n8   -79.194353   both  \n9   -79.194353   both  \n10  -79.352188   both  \n11  -79.309937   both  \n12  -79.309937   both  \n13  -79.378937   both  \n14  -79.378937   both  \n15  -79.445073   both  \n16  -79.554724   both  \n17  -79.554724   both  \n18  -79.554724   both  \n19  -79.554724   both  \n20  -79.554724   both  \n21  -79.160497   both  \n22  -79.160497   both  \n23  -79.160497   both  \n24  -79.340923   both  \n25  -79.340923   both  \n26  -79.318389   both  \n27  -79.375418   both  \n28  -79.428191   both  \n29  -79.577201   both  \n..         ...    ...  \n181 -79.588437   both  \n182 -79.318389   both  \n183 -79.377529   both  \n184 -79.374846   both  \n185 -79.543484   both  \n186 -79.543484   both  \n187 -79.594054   both  \n188 -79.205636   both  \n189 -79.367675   both  \n190 -79.367675   both  \n191 -79.382280   both  \n192 -79.382280   both  \n193 -79.506944   both  \n194 -79.506944   both  \n195 -79.506944   both  \n196 -79.383160   both  \n197 -79.321558   both  \n198 -79.498509   both  \n199 -79.498509   both  \n200 -79.498509   both  \n201 -79.498509   both  \n202 -79.498509   both  \n203 -79.498509   both  \n204 -79.498509   both  \n205 -79.498509   both  \n206 -79.520999   both  \n207 -79.520999   both  \n208 -79.520999   both  \n209 -79.520999   both  \n210 -79.520999   both  \n\n[211 rows x 7 columns]"
                    }, 
                    "execution_count": 45, 
                    "metadata": {}
                }
            ], 
            "execution_count": 45
        }, 
        {
            "source": "type(merged_left)", 
            "cell_type": "code", 
            "metadata": {
                "scrolled": true
            }, 
            "outputs": [
                {
                    "output_type": "execute_result", 
                    "data": {
                        "text/plain": "pandas.core.frame.DataFrame"
                    }, 
                    "execution_count": 57, 
                    "metadata": {}
                }
            ], 
            "execution_count": 57
        }, 
        {
            "source": "merged_left.drop([\"Postal Code\", \"_merge\"], axis=1, inplace=True)", 
            "cell_type": "code", 
            "metadata": {}, 
            "outputs": [], 
            "execution_count": 56
        }, 
        {
            "source": "merged_left.head()", 
            "cell_type": "code", 
            "metadata": {}, 
            "outputs": [
                {
                    "output_type": "execute_result", 
                    "data": {
                        "text/html": "<div>\n<style scoped>\n    .dataframe tbody tr th:only-of-type {\n        vertical-align: middle;\n    }\n\n    .dataframe tbody tr th {\n        vertical-align: top;\n    }\n\n    .dataframe thead th {\n        text-align: right;\n    }\n</style>\n<table border=\"1\" class=\"dataframe\">\n  <thead>\n    <tr style=\"text-align: right;\">\n      <th></th>\n      <th>PostalCode</th>\n      <th>Borough</th>\n      <th>Neighbourhood</th>\n      <th>Latitude</th>\n      <th>Longitude</th>\n    </tr>\n  </thead>\n  <tbody>\n    <tr>\n      <th>0</th>\n      <td>M3A</td>\n      <td>North York</td>\n      <td>Parkwoods</td>\n      <td>43.753259</td>\n      <td>-79.329656</td>\n    </tr>\n    <tr>\n      <th>1</th>\n      <td>M4A</td>\n      <td>North York</td>\n      <td>Victoria Village</td>\n      <td>43.725882</td>\n      <td>-79.315572</td>\n    </tr>\n    <tr>\n      <th>2</th>\n      <td>M5A</td>\n      <td>Downtown Toronto</td>\n      <td>Harbourfront</td>\n      <td>43.654260</td>\n      <td>-79.360636</td>\n    </tr>\n    <tr>\n      <th>3</th>\n      <td>M5A</td>\n      <td>Downtown Toronto</td>\n      <td>Regent Park</td>\n      <td>43.654260</td>\n      <td>-79.360636</td>\n    </tr>\n    <tr>\n      <th>4</th>\n      <td>M6A</td>\n      <td>North York</td>\n      <td>Lawrence Heights</td>\n      <td>43.718518</td>\n      <td>-79.464763</td>\n    </tr>\n  </tbody>\n</table>\n</div>", 
                        "text/plain": "  PostalCode           Borough     Neighbourhood   Latitude  Longitude\n0        M3A        North York         Parkwoods  43.753259 -79.329656\n1        M4A        North York  Victoria Village  43.725882 -79.315572\n2        M5A  Downtown Toronto      Harbourfront  43.654260 -79.360636\n3        M5A  Downtown Toronto       Regent Park  43.654260 -79.360636\n4        M6A        North York  Lawrence Heights  43.718518 -79.464763"
                    }, 
                    "execution_count": 58, 
                    "metadata": {}
                }
            ], 
            "execution_count": 58
        }, 
        {
            "source": "", 
            "cell_type": "code", 
            "metadata": {}, 
            "outputs": [], 
            "execution_count": null
        }
    ], 
    "metadata": {
        "kernelspec": {
            "display_name": "Python 3.5", 
            "name": "python3", 
            "language": "python"
        }, 
        "language_info": {
            "mimetype": "text/x-python", 
            "nbconvert_exporter": "python", 
            "version": "3.5.5", 
            "name": "python", 
            "file_extension": ".py", 
            "pygments_lexer": "ipython3", 
            "codemirror_mode": {
                "version": 3, 
                "name": "ipython"
            }
        }
    }, 
    "nbformat": 4
}